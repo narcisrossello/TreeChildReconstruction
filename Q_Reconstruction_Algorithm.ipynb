{
  "nbformat": 4,
  "nbformat_minor": 0,
  "metadata": {
    "colab": {
      "name": "Q_Reconstruction_Algorithm.ipynb",
      "provenance": [],
      "collapsed_sections": []
    },
    "kernelspec": {
      "name": "python3",
      "display_name": "Python 3"
    },
    "language_info": {
      "name": "python"
    }
  },
  "cells": [
    {
      "cell_type": "markdown",
      "metadata": {
        "id": "YeOwlrrwIwp-"
      },
      "source": [
        "**Development project for the implementation of the tree-child network reconstruction function in the field of phylogenetic networks.**\n",
        "\n",
        "Author: Narcís Rosselló Payeras\n",
        "\n",
        "Creation Date: 07/12/2021\n",
        "\n",
        "Last Update: 07/12/2021"
      ]
    },
    {
      "cell_type": "markdown",
      "metadata": {
        "id": "3865Xbw1Iq-1"
      },
      "source": [
        "# **1. INITIALIZATION AND VARIABLES DECLARATION**"
      ]
    },
    {
      "cell_type": "markdown",
      "metadata": {
        "id": "P8ofOuat8ADK"
      },
      "source": [
        "Paper:\n",
        "\n",
        "https://link.springer.com/article/10.1007%2Fs00453-017-0320-6\n",
        "\n",
        "Key Words:\n",
        "\n",
        "https://evolution.berkeley.edu/evolibrary/article/0_0_0/evotrees_primer_07#:~:text=Outgroup%3A%20An%20outgroup%20is%20used,closely%20related%20to%20that%20clade.\n",
        "\n",
        "**Outgroup:** An outgroup is used in phylogenetic analyses to figure out where the root of the tree should be placed (and sometimes which character state is ancestral on the tree). An outgroup is a lineage that falls outside the clade being studied but is closely related to that clade. All the members of the main clade (the ingroup) are more closely related to each other than they are to the outgroup (or outgroups, if more than one is used). The outgroups can usually be identified by locating the terminal taxa that branch off nearest the base of a phylogenetic tree. On this tree, the outgroup is the fairy shrimp � a group of crustaceans that are closely related to the insects. Note that some evolutionary trees don't include an outgroup.\n",
        "\n",
        "**Ingroup:** An ingroup is the clade that is the focus of a phylogenetic analysis. In contrast, the outgroup is a taxon that is included in an analysis to figure out where the root of the tree should fall and sometimes which character state is ancestral for the ingroup (e.g., winglessness). On this tree, the ingroup includes all the insects."
      ]
    },
    {
      "cell_type": "markdown",
      "metadata": {
        "id": "Ti2hmLNQuxE3"
      },
      "source": [
        "References:\n",
        "   - https://en.wikipedia.org/wiki/Q_Score\n",
        "   - https://en.wikipedia.org/wiki/Outgroup_(cladistics)"
      ]
    },
    {
      "cell_type": "code",
      "metadata": {
        "id": "KMxJijnMpF5v"
      },
      "source": [
        "import networkx as nx\n",
        "from networkx.drawing.nx_pydot import graphviz_layout\n",
        "import matplotlib.pyplot as plt\n",
        "import copy"
      ],
      "execution_count": null,
      "outputs": []
    },
    {
      "cell_type": "markdown",
      "metadata": {
        "id": "x_xZlA-4zcB3"
      },
      "source": [
        "# **2. FUNCTION DECLARATION**\n",
        "\n",
        "This section declares all functions used in the main Q_Reconstruction function. The functions described in this section are separated into three groups, according to their level of abstraction.\n",
        "\n",
        "1. In the first low-level group, the most basic functions that deal with data directly are declared.\n",
        "\n",
        "2. In the second intermediate-level group, functions are declared that have clear and very concrete objectives but in a more developed way and that use functions from the first group.\n",
        "\n",
        "3. In the third high-level group, functions that are closer to the final logic of the algorithm are declared. They are more abstractly developed and implement functions from the first two groups."
      ]
    },
    {
      "cell_type": "markdown",
      "metadata": {
        "id": "XXjbzLwoz2Dv"
      },
      "source": [
        "**Low-Level Functions**\n",
        "\n",
        "The basic operating functions of the dictionary used are declared in this cell."
      ]
    },
    {
      "cell_type": "code",
      "metadata": {
        "id": "GXr8EgdC_1Cz"
      },
      "source": [
        "\"\"\"\n",
        "The GetDictValue function returns the value of the distance stored in the \n",
        "  dictionary between two leaves. All possible entries are returned, either in one\n",
        "  leaf order or the reverse order.\n",
        "Output: Integer\n",
        "\"\"\"\n",
        "def GetDictValue(dictionary, leaf1, leaf2):\n",
        "  value = []\n",
        "  try:\n",
        "    value = dictionary[leaf1][leaf2]\n",
        "  except:\n",
        "    value = dictionary[leaf2][leaf1]\n",
        "  return value\n",
        "\n",
        "\n",
        "\"\"\"\n",
        "The RemoveDictValue function removes the value of the distance in the dictionary\n",
        "  between two leaves. All possible entries, whether in one leaf order or the \n",
        "  reverse, are removed.\n",
        "Output: -\n",
        "\"\"\"\n",
        "def RemoveDictValue(dictionary, leaf):\n",
        "  try:\n",
        "    dictionary.pop(leaf)\n",
        "  except:\n",
        "    print(\"1: No Key with this value\")\n",
        "  for n in dictionary.keys():\n",
        "    try:\n",
        "      dictionary[n].pop(leaf)\n",
        "    except:\n",
        "      print(\"2: No Key with this value\")\n",
        "\n",
        "\n",
        "\"\"\"\n",
        "The UpdateDictValue function updates the distance value in the dictionary between\n",
        "  two leaves. All possible entries are updated, either in one leaf order or the\n",
        "  reverse order.\n",
        "Output: -\n",
        "\"\"\"\n",
        "def UpdateDictValue(dictionary, leaf1, leaf2, value):\n",
        "  try:\n",
        "    exists = dictionary[leaf1][leaf2]\n",
        "    dictionary[leaf1].update({leaf2 : value})\n",
        "  except:\n",
        "    dictionary[leaf2].update({leaf1 : value})\n",
        "\n",
        "\n",
        "\"\"\"\n",
        "The CleanDict function eliminates all possible empty entries in the dictionary.\n",
        "Output: Dictionary\n",
        "\"\"\"\n",
        "def CleanDict(dictionary):\n",
        "  result = copy.deepcopy(dictionary)\n",
        "  for n in dictionary.keys():\n",
        "    if result[n] == {}:\n",
        "      result.pop(n)\n",
        "  return result"
      ],
      "execution_count": null,
      "outputs": []
    },
    {
      "cell_type": "markdown",
      "metadata": {
        "id": "fzrVT-Yg-EFS"
      },
      "source": [
        "The basic functions dealing with the network are declared in this cell."
      ]
    },
    {
      "cell_type": "code",
      "metadata": {
        "id": "Xt0ZF-vF-Ahe"
      },
      "source": [
        "\"\"\"\n",
        "The GetLeaves function returns all leaves in the network.\n",
        "Output: List of leaves\n",
        "\"\"\"\n",
        "def GetLeaves(network):\n",
        "  leaves = []\n",
        "  for node in network.nodes:\n",
        "    if type(node) == str:\n",
        "      leaves.append(node)\n",
        "  return leaves\n",
        "\n",
        "\n",
        "\"\"\"\n",
        "The GetValue function returns the value of the name of the parent node of the \n",
        "  input node.\n",
        "Output: Variable with parent name\n",
        "\"\"\"\n",
        "def GetValue(node):\n",
        "  for n in node:\n",
        "    return n\n",
        "\n"
      ],
      "execution_count": null,
      "outputs": []
    },
    {
      "cell_type": "markdown",
      "metadata": {
        "id": "eueVgnyn_5Op"
      },
      "source": [
        "**Intermediate-Level Functions**"
      ]
    },
    {
      "cell_type": "code",
      "metadata": {
        "id": "akywJUnIt11A"
      },
      "source": [
        "\"\"\"\n",
        "The Q_distance function implements the mathematical formula of the Q score. This\n",
        "  formula is calculated based on the distance dictionary.\n",
        "Output: Integer\n",
        "\"\"\"\n",
        "def Q_distance(s, t, r, D):\n",
        "  q_distance = (1/2)*(D_max(r, s, D) + D_max(r, t, D) - D_min(s, t, D))\n",
        "  return q_distance\n",
        "\n",
        "\n",
        "\"\"\"\n",
        "The D_max function returns the maximum distance between two leaves.\n",
        "Output: Integer\n",
        "\"\"\"\n",
        "def D_max(x, y, D):\n",
        "  return max(GetDictValue(D, x, y))\n",
        "\n",
        "\n",
        "\"\"\"\n",
        "The D_min function returns the minimum distance between two leaves.\n",
        "Output: Integer\n",
        "\"\"\"\n",
        "def D_min(x, y, D):\n",
        "  return min(GetDictValue(D, x, y))\n",
        "\n",
        "\n",
        "\"\"\"\n",
        "The FindCherryWeights function calculates the distances in the reconstruction \n",
        "  between u and v, between v and s, and between v and t. This function works for\n",
        "  both positive c and negative c, when the path to s is greater than to t.\n",
        "Output: Integer, Integer, Integer\n",
        "\"\"\"\n",
        "def FindCherryWeights(w_us, w_st, c):\n",
        "  w_vs = w_us\n",
        "  w_uv = 0\n",
        "  incr = 0\n",
        "  while incr <= w_us:\n",
        "    w_vt = w_vs + c\n",
        "    if w_vt + w_vs == w_st:\n",
        "      return w_uv, w_vs, w_vt\n",
        "    incr += 1\n",
        "    w_vs = w_us - incr\n",
        "    w_uv = incr\n",
        "\n",
        "\n",
        "\"\"\"\n",
        "The FindHWeights function calculates the weights for the edges between the u, v \n",
        "  and s nodes. This calculation is performed for the reconstruction of the network \n",
        "  with the element H.\n",
        "Output: Integer\n",
        "\"\"\"\n",
        "def FindHWeights(w_u1s, w_st, w_u2t):\n",
        "  w_v1s = w_st - w_u2t\n",
        "  w_u1v1 = w_u1s - w_v1s\n",
        "  return w_u1v1, w_v1s\n",
        "\n",
        "\n",
        "\"\"\"\n",
        "The GetSubset function returns true or false depending on whether or not d1 is a\n",
        "  subset of d2, summing the value c.\n",
        "Output: Boolean\n",
        "\"\"\"\n",
        "def GetSubset(d1, c, d2):\n",
        "  for i in d1:\n",
        "    subset = False\n",
        "    for j in d2:\n",
        "      if i + c == j:\n",
        "        subset = True\n",
        "    if not subset:\n",
        "      return False\n",
        "  return True\n",
        "\n",
        "\n",
        "\"\"\"\n",
        "The CutST function eliminates the central path of the case H for the specific \n",
        "  case of the leaves s and t. For this case the smallest distance between these two\n",
        "  leaves is eliminated.\n",
        "Output: List of new distances between s and t\n",
        "\"\"\"\n",
        "def CutST(s, t, D):\n",
        "  result = []\n",
        "  d_st = GetDictValue(D, s, t)\n",
        "  for i in d_st:\n",
        "    if i != min(d_st):\n",
        "      result.append(i)\n",
        "  return result\n",
        "\n",
        "\n",
        "\"\"\"\n",
        "The GetOutJoin function returns those distances between two leaves that do not\n",
        "  pass through the central edge of H. For this, it is checked for all distances \n",
        "  plus c whether they lie within the other set of distances.\n",
        "Output: List of distances\n",
        "\"\"\"\n",
        "def GetOutJoin(d1, d2, c):\n",
        "  result = []\n",
        "  for i in d1:\n",
        "    add = True\n",
        "    for j in d2:\n",
        "      if j + c == i:\n",
        "        add = False\n",
        "    if add:\n",
        "      result.append(i)\n",
        "  return result"
      ],
      "execution_count": null,
      "outputs": []
    },
    {
      "cell_type": "markdown",
      "metadata": {
        "id": "QbVISEeO_99Z"
      },
      "source": [
        "**High-Level Functions**"
      ]
    },
    {
      "cell_type": "code",
      "metadata": {
        "id": "g7YQuo9DYLsE"
      },
      "source": [
        "\"\"\"\n",
        "The GetCutDistances function obtains the distances between leaf s and leaf t that \n",
        "  do not pass through the central edge of the form H between them. For this, the \n",
        "  value of c is needed and from this the distances that do not pass through this \n",
        "  central edge are obtained.\n",
        "Output: List of distances\n",
        "\"\"\"\n",
        "def GetCutDistances(x, s, t, D, r):\n",
        "  #C Calculation\n",
        "  c = D_max(r, t, D) - D_max(r, s, D)\n",
        "  distances = GetOutJoin(GetDictValue(D, t, x), GetDictValue(D, s, x), c)\n",
        "  return distances\n",
        "\n",
        "\n",
        "\"\"\"\n",
        "The ReticulationTest function says, for case of the form H between two leaves, the\n",
        "  leaf t passed by parameters has the parent as a reticular node.\n",
        "Output: Boolean\n",
        "\"\"\"\n",
        "def ReticulationTest(D, X, s, t):\n",
        "  c = D_max(r, t, D) - D_max(r, s, D)\n",
        "  for x in X:\n",
        "    if x not in [s, t]:\n",
        "      if not GetSubset(GetDictValue(D, s, x), c, GetDictValue(D, t, x)):\n",
        "        return False\n",
        "  return True\n",
        "\n",
        "\n",
        "\"\"\"\n",
        "The Reduce function updates the weights for the first case, Cherry shape between\n",
        "  two leaves. For this case all distances to leaf t will disappear, as this leaf\n",
        "  is removed from the list. The same happens in the list of available leaves.\n",
        "Output: Dictionary with updated distances, List of leaves without t\n",
        "\"\"\"\n",
        "def Reduce(X, D, s, t):\n",
        "  Dprima = copy.deepcopy(D)\n",
        "  Xprima = copy.deepcopy(X)\n",
        "  Xprima.remove(t)\n",
        "  RemoveDictValue(Dprima, t)\n",
        "  Dprima = CleanDict(Dprima)\n",
        "  return Dprima, Xprima\n",
        "\n",
        "\n",
        "\"\"\"\n",
        "The Cut function updates the weights for the second case, form H between two\n",
        "  sheets. For this case no leaf is removed. The distances that used the central \n",
        "  path will disappear. Moreover, only the distances to the leaf with the lattice\n",
        "  parent of the H-shape, i.e. with t, are modified.\n",
        "Output: Dictionary with updated distances\n",
        "\"\"\"\n",
        "def Cut(X, D, s, t, r):\n",
        "  Dprima = copy.deepcopy(D)\n",
        "  for i in X:\n",
        "    if i not in [s, t]:\n",
        "      distances = GetCutDistances(i, s, t, D, r)\n",
        "      UpdateDictValue(Dprima, i, t, distances)\n",
        "  UpdateDictValue(Dprima, s, t, CutST(s, t, D))\n",
        "  return Dprima\n",
        "\n",
        "\n",
        "\"\"\"\n",
        "The HReconstruction function reconstructs the H element of the network. It \n",
        "  modifies the network by adding the new element and assigns the relevant weights \n",
        "  to the affected edges. The modification occurs directly in the input network.\n",
        "Output: -\n",
        "\"\"\"\n",
        "def HReconstruction(finalNetwork, s, t, D, r_depth):\n",
        "  #Node Creation\n",
        "  nodeV1 = 'v1{r_depth}'.format(r_depth = r_depth)\n",
        "  nodeV2 = 'v2{r_depth}'.format(r_depth = r_depth)\n",
        "  u1 = GetValue(finalNetwork[s])\n",
        "  u2 = GetValue(finalNetwork[t])\n",
        "  w_u2t = finalNetwork[u2][t]['weight']\n",
        "  w_u1s = finalNetwork[u1][s]['weight']\n",
        "  w_u1v1, w_v1s = FindHWeights(w_u1s, D_min(s, t, D), w_u2t)\n",
        "  #Edge Division\n",
        "  finalNetwork.remove_edge(u1, s)\n",
        "  finalNetwork.remove_edge(u2, t)\n",
        "  finalNetwork.add_edge(u1, nodeV1, weight = w_u1v1)\n",
        "  finalNetwork.add_edge(u2, nodeV2, weight = 0) #0 Weight value\n",
        "  finalNetwork.add_edge(nodeV1, s, weight = w_v1s)\n",
        "  finalNetwork.add_edge(nodeV2, t, weight = w_u2t)\n",
        "  finalNetwork.add_edge(nodeV1, nodeV2, weight = 0) #0 Weight value\n",
        "\n",
        "\n",
        "\"\"\"\n",
        "The CherryReconstruction reconstructs the cherry element of the network. It \n",
        "  modifies the network by adding the new element and assigns the relevant weights \n",
        "  to the affected edges. The modification occurs directly in the input network.\n",
        "Output: -\n",
        "\"\"\"\n",
        "def CherryReconstruction(finalNetwork, s, t, D, r, r_depth):\n",
        "  u = GetValue(finalNetwork[s])\n",
        "  w_us = finalNetwork[s][u][\"weight\"]\n",
        "  c = D_max(r, t, D) - D_max(r, s, D)\n",
        "  w_uv, w_vs, w_vt = FindCherryWeights(w_us, D_min(s, t, D), c)\n",
        "  nodeV = 'v{r_depth}'.format(r_depth = r_depth)\n",
        "  finalNetwork.remove_edge(u, s)\n",
        "  finalNetwork.add_edge(u, nodeV, weight = w_uv)\n",
        "  finalNetwork.add_edge(nodeV, s, weight = w_vs)\n",
        "  finalNetwork.add_edge(nodeV, t, weight = w_vt)\n",
        "\n",
        "\n",
        "\"\"\"\n",
        "The CreateDoubleVertexNet function creates a defined and concrete type of structure.\n",
        "  All the weight found in D, there being only one, is assigned to the edge between\n",
        "  the root and the leaf in X, while the weight between the root and r will be 0.\n",
        "Output: -\n",
        "\"\"\"\n",
        "def CreateDoubleVertexNet(finalNetwork, X, D, r):\n",
        "  for leaf in X:\n",
        "    if leaf == r:\n",
        "      finalNetwork.add_edge(leaf, 0, weight = 0)\n",
        "    else:\n",
        "      finalNetwork.add_edge(leaf, 0, weight = GetDictValue(D, leaf, r)[0])\n",
        "\n",
        "\n",
        "\"\"\"\n",
        "The Find2ElementSubset function returns a pair of leaves s and t, which have the\n",
        "  maximum value of the formula Q score. In case there is more than one pair of \n",
        "  leaves with the same maximum, the first one is chosen.\n",
        "Output: List of 2 leaves, Integer (Max value of q_score)\n",
        "\"\"\"\n",
        "def Find2ElementSubset(X, D, r):\n",
        "  q_max = 0\n",
        "  q_pair = []\n",
        "  XWithoutR = [x for x in X if x != \"r\"]\n",
        "  for x in XWithoutR:\n",
        "    for y in XWithoutR:\n",
        "      if x != y:\n",
        "        q_distance = Q_distance(x, y, r, D)\n",
        "        if q_distance > q_max:\n",
        "          q_max = q_distance\n",
        "          q_pair = [x, y]\n",
        "  return q_pair, q_max"
      ],
      "execution_count": null,
      "outputs": []
    },
    {
      "cell_type": "markdown",
      "metadata": {
        "id": "qX4w8faHJS8E"
      },
      "source": [
        "# **3. MAIN ALGORITHM**"
      ]
    },
    {
      "cell_type": "code",
      "metadata": {
        "id": "FAlyWvjjBKea"
      },
      "source": [
        "#X: Leaf set\n",
        "#D: Distance matrix\n",
        "#r: out-group\n",
        "def Q_Algorithm(X, D, r, recursivity_depth = 0):\n",
        "  finalNetwork = nx.Graph()\n",
        "  print()\n",
        "  print(\"Recursivity Depth: \", recursivity_depth)\n",
        "  #0\n",
        "  if len(X) == 0:\n",
        "    print(\"Case 0: Invalid Input\")\n",
        "    return finalNetwork\n",
        "\n",
        "  #1\n",
        "  elif len(X) == 1:\n",
        "    if r == X[0]:\n",
        "      print(\"Case 1: Unique element\")\n",
        "      return finalNetwork.add_node(r)\n",
        "    return finalNetwork\n",
        "\n",
        "  #2\n",
        "  elif len(X) == 2:\n",
        "    CreateDoubleVertexNet(finalNetwork, X, D, r)\n",
        "    print(\"Case 2: Double Vertex network created\")\n",
        "    return finalNetwork\n",
        "\n",
        "  #3\n",
        "  else:\n",
        "    #Find max distance subset - {r}\n",
        "    subset, max_distance = Find2ElementSubset(X, D, r)\n",
        "    \n",
        "    #Case 0-reticulated cherry\n",
        "    if len(GetDictValue(D, subset[0], subset[1])) == 1:\n",
        "      print(\"Cherry Found\")\n",
        "      print(\"For pair of leaves {subset}, it returns max q_score = {max}\".format(subset = subset, max = max_distance))\n",
        "      #i. Reduce\n",
        "      Dprima, Xprima = Reduce(X, D, subset[0], subset[1])\n",
        "      print(\"Distances Dictionary: \")\n",
        "      print(Dprima)\n",
        "      #ii. Q-Algorithm(X', D', r)\n",
        "      finalNetwork = Q_Algorithm(Xprima, Dprima, r, recursivity_depth+1)\n",
        "\n",
        "      if recursivity_depth >= 0:\n",
        "        CherryReconstruction(finalNetwork, subset[0], subset[1], D, r, recursivity_depth)\n",
        "\n",
        "      print()\n",
        "      print(\"Cherry Reconstructed in depth \", recursivity_depth)\n",
        "    #Case 1-reticulated cherry\n",
        "    else:\n",
        "      if ReticulationTest(D, X, subset[0], subset[1]):\n",
        "        s = subset[0]\n",
        "        t = subset[1]\n",
        "      elif ReticulationTest(D, X, subset[1], subset[0]):\n",
        "        s = subset[1]\n",
        "        t = subset[0]\n",
        "      print(\"H Found\")\n",
        "      print(\"For pair of leaves {subset}, it returns max q_score = {max}\".format(subset = [s,t], max = max_distance))\n",
        "      #i. Cut\n",
        "      Dprima = Cut(X, D, s, t, r)\n",
        "      print(\"Distances Dictionary: \")\n",
        "      print(Dprima)\n",
        "      #ii. Q-Algorithm(X, D', r)\n",
        "      finalNetwork = Q_Algorithm(X, Dprima, r, recursivity_depth+1)\n",
        "\n",
        "      if recursivity_depth >= 0:\n",
        "        HReconstruction(finalNetwork, s, t, D, recursivity_depth)\n",
        "\n",
        "      print()\n",
        "      print(\"H Reconstructed in depth \", recursivity_depth)\n",
        "  return finalNetwork"
      ],
      "execution_count": null,
      "outputs": []
    },
    {
      "cell_type": "markdown",
      "metadata": {
        "id": "_eVGZxSYJcIr"
      },
      "source": [
        "# **4. DISTANCE MATRIX EXTRACTION FROM ORIGINAL NETWORK**"
      ]
    },
    {
      "cell_type": "code",
      "metadata": {
        "id": "Nlx5_P5UJl-w"
      },
      "source": [
        "\"\"\"\n",
        "The GetDistance function is a recursive function that returns the distance between\n",
        "  two nodes. This distance is constrained by a number of factors such as that it\n",
        "  cannot repeat path and the path has to be up-down. The distance obtained is\n",
        "  obtained from the recursion, returning all possible available paths that meet\n",
        "  the requirements.\n",
        "Output: List of weights, Boolean if found at least one path\n",
        "\"\"\"\n",
        "def GetDistance(graph, node1, node2, visitedNodes = [], direction = 'Up'):\n",
        "  finalWeight = []\n",
        "  visitedNodesAux = copy.deepcopy(visitedNodes)\n",
        "  foundFinal = False\n",
        "  for node in graph[node1]:\n",
        "    if node not in visitedNodes:\n",
        "      #Checking Direction    \n",
        "      #Up-Down Path, when goes down it can't go up again\n",
        "      if (direction == 'Down' and GetDirection(node1, node) == 'Down') or direction == 'Up':\n",
        "        visitedNodesAux.append(node1)\n",
        "        if node == node2:\n",
        "          return input[node1][node][\"weight\"], True\n",
        "        weight, found = GetDistance(graph, node, node2, visitedNodesAux, GetDirection(node1, node))\n",
        "        if found:\n",
        "          if type(weight) == list:\n",
        "            for i in weight:\n",
        "              finalWeight.append(i + input[node1][node][\"weight\"])\n",
        "          else:\n",
        "            finalWeight.append(weight + input[node1][node][\"weight\"])\n",
        "          foundFinal = found\n",
        "    \n",
        "  return finalWeight, foundFinal\n",
        "\n",
        "\n",
        "\"\"\"\n",
        "The GetDirection function returns the type of path to follow to the next node,\n",
        "  either Down or Up.\n",
        "Output: String ('Down', 'Up')\n",
        "\"\"\"\n",
        "def GetDirection(origin, destination):\n",
        "  try:\n",
        "    if origin < destination:\n",
        "      return 'Down'\n",
        "    else:\n",
        "      return 'Up'\n",
        "  #It means it goes to a leaf\n",
        "  except:\n",
        "    if type(origin) == int:\n",
        "      return 'Down'\n",
        "    else:\n",
        "      return 'Up'\n",
        "\n",
        "\n",
        "\"\"\"\n",
        "The GetDistancesMatrix function constructs for all leaves the distance dictionary.\n",
        "  Between two leaves there can be one or more possible distances, depending on\n",
        "  whether there are different possible paths to follow following the defined \n",
        "  constraints.\n",
        "Output: Dictionary with distances, List of leaves\n",
        "\"\"\"\n",
        "def GetDistancesMatrix(graph):\n",
        "  leaves = GetLeaves(graph)\n",
        "  distanceMatrix = {}\n",
        "  for n1, leaf1 in enumerate(leaves):\n",
        "    distanceMatrixLeaf = {}\n",
        "    for n2 in range(n1+1, len(leaves)):\n",
        "      out1, out2 = GetDistance(graph, leaf1, leaves[n2])\n",
        "      if out2:\n",
        "        distanceMatrixLeaf.update({leaves[n2] : out1})\n",
        "    if len(distanceMatrixLeaf) > 0:\n",
        "      distanceMatrix.update({leaf1 : distanceMatrixLeaf})\n",
        "  \n",
        "  return distanceMatrix, leaves"
      ],
      "execution_count": null,
      "outputs": []
    },
    {
      "cell_type": "markdown",
      "metadata": {
        "id": "hFEScnV7JycB"
      },
      "source": [
        "# **5. EXAMPLE**"
      ]
    },
    {
      "cell_type": "markdown",
      "metadata": {
        "id": "Ee4SG0CCKGcH"
      },
      "source": [
        "![image.png](data:image/png;base64,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)"
      ]
    },
    {
      "cell_type": "code",
      "metadata": {
        "colab": {
          "base_uri": "https://localhost:8080/",
          "height": 319
        },
        "id": "KzUvHjf1J3lA",
        "outputId": "97df621e-f603-478b-b9a3-4c403101aa5b"
      },
      "source": [
        "input = nx.Graph()\n",
        "input.add_edge(0, 'r', weight = 7)\n",
        "input.add_edge(0, 1, weight = 1)\n",
        "input.add_edge(1, 2, weight = 4)\n",
        "input.add_edge(1, 3, weight = 3)\n",
        "input.add_edge(2, 4, weight = 2)\n",
        "input.add_edge(2, 9, weight = 5)\n",
        "input.add_edge(3, 4, weight = 2)\n",
        "input.add_edge(3, 5, weight = 1)\n",
        "input.add_edge(4, 7, weight = 3)\n",
        "input.add_edge(5, 6, weight = 2)\n",
        "input.add_edge(5, 'x6', weight = 2)\n",
        "input.add_edge(6, 'x5', weight = 4)\n",
        "input.add_edge(6, 8, weight = 1)\n",
        "input.add_edge(7, 8, weight = 1)\n",
        "input.add_edge(7, 'x3', weight = 2)\n",
        "input.add_edge(8, 'x4', weight = 3)\n",
        "input.add_edge(9, 'x1', weight = 2)\n",
        "input.add_edge(9, 'x2', weight = 1)\n",
        "\n",
        "pos = graphviz_layout(input, prog=\"dot\")\n",
        "nx.draw(input, pos, with_labels = True)\n",
        "plt.show()"
      ],
      "execution_count": null,
      "outputs": [
        {
          "output_type": "display_data",
          "data": {
            "image/png": "[encoded data removed]",
            "text/plain": [
              "<Figure size 432x288 with 1 Axes>"
            ]
          },
          "metadata": {}
        }
      ]
    },
    {
      "cell_type": "code",
      "source": [
        "D, X = GetDistancesMatrix(input)\n",
        "r = 'r'\n",
        "print('Distance Dictionary/Matrix')\n",
        "D"
      ],
      "metadata": {
        "colab": {
          "base_uri": "https://localhost:8080/"
        },
        "id": "c1T_52UY9GqY",
        "outputId": "ede307ff-38f5-4c6d-b869-62b4f2920dd4"
      },
      "execution_count": null,
      "outputs": [
        {
          "output_type": "stream",
          "name": "stdout",
          "text": [
            "Distance Dictionary/Matrix\n"
          ]
        },
        {
          "output_type": "execute_result",
          "data": {
            "text/plain": [
              "{'r': {'x1': [19],\n",
              "  'x2': [18],\n",
              "  'x3': [19, 18],\n",
              "  'x4': [21, 20, 18],\n",
              "  'x5': [18],\n",
              "  'x6': [14]},\n",
              " 'x1': {'x2': [3]},\n",
              " 'x3': {'x1': [14, 21], 'x2': [13, 20], 'x4': [21, 14, 6]},\n",
              " 'x4': {'x1': [21, 16, 23], 'x2': [20, 15, 22]},\n",
              " 'x5': {'x1': [21], 'x2': [20], 'x3': [21, 14], 'x4': [23, 16, 8]},\n",
              " 'x6': {'x1': [17], 'x2': [16], 'x3': [17, 10], 'x4': [19, 12, 8], 'x5': [8]}}"
            ]
          },
          "metadata": {},
          "execution_count": 9
        }
      ]
    },
    {
      "cell_type": "code",
      "source": [
        "print(\"List of leaves\")\n",
        "X"
      ],
      "metadata": {
        "colab": {
          "base_uri": "https://localhost:8080/"
        },
        "id": "2lmag6bC9Pe5",
        "outputId": "7aa27b88-c1e7-4462-ced4-7bf19d31daec"
      },
      "execution_count": null,
      "outputs": [
        {
          "output_type": "stream",
          "name": "stdout",
          "text": [
            "List of leaves\n"
          ]
        },
        {
          "output_type": "execute_result",
          "data": {
            "text/plain": [
              "['r', 'x6', 'x5', 'x3', 'x4', 'x1', 'x2']"
            ]
          },
          "metadata": {},
          "execution_count": 10
        }
      ]
    },
    {
      "cell_type": "code",
      "metadata": {
        "colab": {
          "base_uri": "https://localhost:8080/"
        },
        "id": "pyRQwgl22kPM",
        "outputId": "69f1f705-010b-43f7-e1c6-28c5093764be"
      },
      "source": [
        "finalNetwork = Q_Algorithm(X, D, r)"
      ],
      "execution_count": null,
      "outputs": [
        {
          "output_type": "stream",
          "name": "stdout",
          "text": [
            "\n",
            "Recursivity Depth:  0\n",
            "H Found\n",
            "For pair of leaves ['x3', 'x4'], it returns max q_score = 17.0\n",
            "Distances Dictionary: \n",
            "{'r': {'x6': [14], 'x5': [18], 'x3': [19, 18], 'x4': [18], 'x1': [19], 'x2': [18]}, 'x6': {'x5': [8], 'x3': [17, 10], 'x4': [8], 'x1': [17], 'x2': [16]}, 'x5': {'x3': [21, 14], 'x4': [8], 'x1': [21], 'x2': [20]}, 'x3': {'x4': [21, 14], 'x1': [14, 21], 'x2': [13, 20]}, 'x4': {'x1': [21], 'x2': [20]}, 'x1': {'x2': [3]}}\n",
            "\n",
            "Recursivity Depth:  1\n",
            "Cherry Found\n",
            "For pair of leaves ['x1', 'x2'], it returns max q_score = 17.0\n",
            "1: No Key with this value\n",
            "Distances Dictionary: \n",
            "{'r': {'x6': [14], 'x5': [18], 'x3': [19, 18], 'x4': [18], 'x1': [19]}, 'x6': {'x5': [8], 'x3': [17, 10], 'x4': [8], 'x1': [17]}, 'x5': {'x3': [21, 14], 'x4': [8], 'x1': [21]}, 'x3': {'x4': [21, 14], 'x1': [14, 21]}, 'x4': {'x1': [21]}}\n",
            "\n",
            "Recursivity Depth:  2\n",
            "Cherry Found\n",
            "For pair of leaves ['x5', 'x4'], it returns max q_score = 14.0\n",
            "Distances Dictionary: \n",
            "{'r': {'x6': [14], 'x5': [18], 'x3': [19, 18], 'x1': [19]}, 'x6': {'x5': [8], 'x3': [17, 10], 'x1': [17]}, 'x5': {'x3': [21, 14], 'x1': [21]}, 'x3': {'x1': [14, 21]}}\n",
            "\n",
            "Recursivity Depth:  3\n",
            "Cherry Found\n",
            "For pair of leaves ['x6', 'x5'], it returns max q_score = 12.0\n",
            "2: No Key with this value\n",
            "Distances Dictionary: \n",
            "{'r': {'x6': [14], 'x3': [19, 18], 'x1': [19]}, 'x6': {'x3': [17, 10], 'x1': [17]}, 'x3': {'x1': [14, 21]}}\n",
            "\n",
            "Recursivity Depth:  4\n",
            "H Found\n",
            "For pair of leaves ['x1', 'x3'], it returns max q_score = 12.0\n",
            "Distances Dictionary: \n",
            "{'r': {'x6': [14], 'x3': [18], 'x1': [19]}, 'x6': {'x3': [10], 'x1': [17]}, 'x3': {'x1': [21]}}\n",
            "\n",
            "Recursivity Depth:  5\n",
            "Cherry Found\n",
            "For pair of leaves ['x6', 'x3'], it returns max q_score = 11.0\n",
            "Distances Dictionary: \n",
            "{'r': {'x6': [14], 'x1': [19]}, 'x6': {'x1': [17]}}\n",
            "\n",
            "Recursivity Depth:  6\n",
            "Cherry Found\n",
            "For pair of leaves ['x6', 'x1'], it returns max q_score = 8.0\n",
            "1: No Key with this value\n",
            "Distances Dictionary: \n",
            "{'r': {'x6': [14]}}\n",
            "\n",
            "Recursivity Depth:  7\n",
            "Case 2: Double Vertex network created\n",
            "\n",
            "Cherry Reconstructed in depth  6\n",
            "\n",
            "Cherry Reconstructed in depth  5\n",
            "\n",
            "H Reconstructed in depth  4\n",
            "\n",
            "Cherry Reconstructed in depth  3\n",
            "\n",
            "Cherry Reconstructed in depth  2\n",
            "\n",
            "Cherry Reconstructed in depth  1\n",
            "\n",
            "H Reconstructed in depth  0\n"
          ]
        }
      ]
    },
    {
      "cell_type": "code",
      "metadata": {
        "colab": {
          "base_uri": "https://localhost:8080/",
          "height": 319
        },
        "id": "kKmG9oWffaCP",
        "outputId": "668b5c5e-608a-4763-b8a1-f699139a4d4a"
      },
      "source": [
        "pos = graphviz_layout(finalNetwork, prog=\"dot\")\n",
        "nx.draw(finalNetwork, pos, with_labels = True)\n",
        "plt.show()"
      ],
      "execution_count": null,
      "outputs": [
        {
          "output_type": "display_data",
          "data": {
            "image/png": "[encoded data removed]",
            "text/plain": [
              "<Figure size 432x288 with 1 Axes>"
            ]
          },
          "metadata": {}
        }
      ]
    },
    {
      "cell_type": "code",
      "metadata": {
        "colab": {
          "base_uri": "https://localhost:8080/",
          "height": 35
        },
        "id": "td050KLHxCwf",
        "outputId": "781f7ef8-196e-4860-bbd8-38efde423249"
      },
      "source": [
        "nx.info(finalNetwork)"
      ],
      "execution_count": null,
      "outputs": [
        {
          "output_type": "execute_result",
          "data": {
            "application/vnd.google.colaboratory.intrinsic+json": {
              "type": "string"
            },
            "text/plain": [
              "'Graph with 17 nodes and 18 edges'"
            ]
          },
          "metadata": {},
          "execution_count": 13
        }
      ]
    },
    {
      "cell_type": "code",
      "metadata": {
        "id": "sAkLC3geP-qE",
        "colab": {
          "base_uri": "https://localhost:8080/",
          "height": 35
        },
        "outputId": "d2e2f440-6746-4e08-ef70-dc6b20f29c98"
      },
      "source": [
        "nx.info(input)"
      ],
      "execution_count": null,
      "outputs": [
        {
          "output_type": "execute_result",
          "data": {
            "application/vnd.google.colaboratory.intrinsic+json": {
              "type": "string"
            },
            "text/plain": [
              "'Graph with 17 nodes and 18 edges'"
            ]
          },
          "metadata": {},
          "execution_count": 14
        }
      ]
    },
    {
      "cell_type": "code",
      "metadata": {
        "id": "DPh1GdSpP_7R",
        "colab": {
          "base_uri": "https://localhost:8080/"
        },
        "outputId": "9b30d696-e905-416f-89e2-207774eded51"
      },
      "source": [
        "finalNetwork.size(weight=\"weight\")"
      ],
      "execution_count": null,
      "outputs": [
        {
          "output_type": "execute_result",
          "data": {
            "text/plain": [
              "43.0"
            ]
          },
          "metadata": {},
          "execution_count": 15
        }
      ]
    },
    {
      "cell_type": "code",
      "metadata": {
        "id": "hk9VjF7FQA-E",
        "colab": {
          "base_uri": "https://localhost:8080/"
        },
        "outputId": "9a087e3e-023b-4ae2-a941-b71f7039de6e"
      },
      "source": [
        "input.size(weight=\"weight\")"
      ],
      "execution_count": null,
      "outputs": [
        {
          "output_type": "execute_result",
          "data": {
            "text/plain": [
              "46.0"
            ]
          },
          "metadata": {},
          "execution_count": 16
        }
      ]
    },
    {
      "cell_type": "markdown",
      "metadata": {
        "id": "r7CgVZ4RLB6V"
      },
      "source": [
        "As a final consideration of the reconstruction of the network, although we do not obtain exactly the same networks with the same weights, we can see how, by changing the names with the original ones, we obtain the same distance matrix in the two networks. In this way, it can be seen how they have the same number of nodes, the same number of edges, different weights and total sum of these but equivalent in the formation of the distance matrix."
      ]
    },
    {
      "cell_type": "code",
      "metadata": {
        "colab": {
          "base_uri": "https://localhost:8080/"
        },
        "id": "mmvAm2tsLKNQ",
        "outputId": "240f7b9c-a43a-4823-b839-82f8747a4f33"
      },
      "source": [
        "#Equivalences\n",
        "mapping = {\n",
        "    'v6': 1,\n",
        "    'v14': 2,\n",
        "    'v5': 3,\n",
        "    'v24': 4,\n",
        "    'v1': 9,\n",
        "    'v10': 7,\n",
        "    'v20': 8,\n",
        "    'v2': 6,\n",
        "    'v3': 5\n",
        "}\n",
        "finalNetwork = nx.relabel_nodes(finalNetwork, mapping)\n",
        "\n",
        "#Equivalent paths. Same distance matrix is reproduced.\n",
        "DReconstructed, XReconstructed = GetDistancesMatrix(finalNetwork)\n",
        "DReconstructed"
      ],
      "execution_count": null,
      "outputs": [
        {
          "output_type": "execute_result",
          "data": {
            "text/plain": [
              "{'r': {'x1': [19],\n",
              "  'x2': [18],\n",
              "  'x3': [18, 19],\n",
              "  'x4': [20, 18, 21],\n",
              "  'x5': [18],\n",
              "  'x6': [14]},\n",
              " 'x1': {'x2': [3], 'x3': [21, 14], 'x4': [23, 21, 16], 'x5': [21]},\n",
              " 'x3': {'x2': [20, 13], 'x4': [14, 21, 6], 'x5': [14, 21]},\n",
              " 'x4': {'x2': [20, 22, 15]},\n",
              " 'x5': {'x2': [20], 'x4': [23, 16, 8]},\n",
              " 'x6': {'x1': [17], 'x2': [16], 'x3': [17, 10], 'x4': [19, 12, 8], 'x5': [8]}}"
            ]
          },
          "metadata": {},
          "execution_count": 17
        }
      ]
    },
    {
      "cell_type": "code",
      "source": [
        "pos = graphviz_layout(finalNetwork, prog=\"dot\")\n",
        "nx.draw(finalNetwork, pos, with_labels = True)\n",
        "labels = {e: finalNetwork.edges[e]['weight'] for e in finalNetwork.edges}\n",
        "nx.draw_networkx_edge_labels(finalNetwork, pos, edge_labels=labels)\n",
        "plt.show()"
      ],
      "metadata": {
        "colab": {
          "base_uri": "https://localhost:8080/",
          "height": 319
        },
        "id": "6OLhOlp8OlwC",
        "outputId": "0014fc53-704a-49dd-fdb0-d880a8df6870"
      },
      "execution_count": null,
      "outputs": [
        {
          "output_type": "display_data",
          "data": {
            "image/png": "[encoded data removed]",
            "text/plain": [
              "<Figure size 432x288 with 1 Axes>"
            ]
          },
          "metadata": {}
        }
      ]
    }
  ]
}